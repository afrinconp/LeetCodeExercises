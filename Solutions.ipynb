{
  "nbformat": 4,
  "nbformat_minor": 0,
  "metadata": {
    "colab": {
      "name": "Solutions.ipynb",
      "provenance": [],
      "collapsed_sections": []
    },
    "kernelspec": {
      "name": "python3",
      "display_name": "Python 3"
    },
    "language_info": {
      "name": "python"
    }
  },
  "cells": [
    {
      "cell_type": "markdown",
      "source": [
        "# Solution programming problems\n",
        "By:\n",
        "\n",
        "Andrés Rincon linkedIn:\n",
        "\n",
        "https://www.linkedin.com/in/andres-felipe-rincon-prieto-845673186/\n",
        "\n",
        "https://github.com/afrinconp\n",
        "\n",
        "Andrés Riaño https://www.linkedin.com/in/andres-jhovany-riano-pulido-975994202/"
      ],
      "metadata": {
        "id": "u8QmCM5ooKRZ"
      }
    },
    {
      "cell_type": "code",
      "source": [
        "import timeit"
      ],
      "metadata": {
        "id": "gbKEQr5ijzEE"
      },
      "execution_count": null,
      "outputs": []
    },
    {
      "cell_type": "markdown",
      "source": [
        "# Some problems from LeetCode\n",
        "\n",
        "*  Top Interview Questions: https://leetcode.com/problem-list/top-interview-questions/\n",
        "\n"
      ],
      "metadata": {
        "id": "Qk4hNTOtwUqJ"
      }
    },
    {
      "cell_type": "markdown",
      "source": [
        "# 1) Two Sum \n",
        "Given an array of integers nums and an integer target, return indices of the two numbers such that they add up to target.\n",
        "\n",
        "You may assume that each input would have exactly one solution, and you may not use the same element twice.\n",
        "\n",
        "You can return the answer in any order.\n",
        "\n",
        "https://leetcode.com/problems/two-sum/"
      ],
      "metadata": {
        "id": "cYCMkgC4wvLP"
      }
    },
    {
      "cell_type": "code",
      "source": [
        "class Solution:\n",
        "    def __init__(self, List, name):\n",
        "      self.num=List\n",
        "      self.target=name\n",
        "  \n",
        "    def twoSum(self):\n",
        "        Final=[0,0]\n",
        "        for i in range(len(self.num)):\n",
        "            for j in range(i+1,len(self.num)):\n",
        "                if self.num[i]+self.num[j]==self.target:\n",
        "                    if max(Final)<max([self.num[i],self.num[j]]) and  i!=j:\n",
        "                      Final=[self.num[i],self.num[j]]\n",
        "                      k,l=i,j\n",
        "        return [k,l]\n",
        "    \n",
        "    def twoSum2(self):\n",
        "        dic={}\n",
        "        for i in range(len(self.num)):\n",
        "          residuo=self.target-self.num[i]\n",
        "          if residuo in dic:\n",
        "            return [dic[residuo],i]\n",
        "          dic[self.num[i]]=i\n",
        "        \n",
        "if __name__==\"__main__\":\n",
        "    a=Solution([2,11,15,7,8,68],9)\n",
        "    start = timeit.default_timer()\n",
        "    print(a.twoSum())\n",
        "    stop = timeit.default_timer()\n",
        "    print(\"Time: \",stop-start)\n",
        "    start = timeit.default_timer()\n",
        "    print(a.twoSum2())\n",
        "    stop = timeit.default_timer()\n",
        "    print(\"Time: \",stop-start)"
      ],
      "metadata": {
        "colab": {
          "base_uri": "https://localhost:8080/"
        },
        "id": "YP_-CADfwubc",
        "outputId": "659b5a62-9b87-4085-d540-261445dd8a3f"
      },
      "execution_count": null,
      "outputs": [
        {
          "output_type": "stream",
          "name": "stdout",
          "text": [
            "[0, 3]\n",
            "Time:  0.0010119030000055318\n",
            "[0, 3]\n",
            "Time:  0.0004178599999988819\n"
          ]
        }
      ]
    },
    {
      "cell_type": "markdown",
      "source": [
        "# 2) Add Two Numbers \n",
        "You are given two non-empty linked lists representing two non-negative integers. The digits are stored in reverse order, and each of their nodes contains a single digit. Add the two numbers and return the sum as a linked list.\n",
        "\n",
        "You may assume the two numbers do not contain any leading zero, except the number 0 itself.\n",
        "\n",
        "https://leetcode.com/problems/add-two-numbers/"
      ],
      "metadata": {
        "id": "YCmZwVdbaHlk"
      }
    },
    {
      "cell_type": "code",
      "execution_count": null,
      "metadata": {
        "id": "kxiMuEYuoAyg",
        "colab": {
          "base_uri": "https://localhost:8080/"
        },
        "outputId": "dfaa09d0-170b-4533-d7f3-89c57a98939e"
      },
      "outputs": [
        {
          "output_type": "execute_result",
          "data": {
            "text/plain": [
              "<__main__.ListNode at 0x7fc1696c0050>"
            ]
          },
          "metadata": {},
          "execution_count": 9
        }
      ],
      "source": [
        "class ListNode:\n",
        "       def __init__(self, val=0, next=None):\n",
        "         self.val = val\n",
        "         self.next = next\n",
        "l1=ListNode(9,ListNode(9,ListNode(9,ListNode(9))))\n",
        "l2=ListNode(9,ListNode(9,ListNode(9,ListNode(9,ListNode(9,ListNode(9))))))\n",
        "result=ListNode(0)\n",
        "result_tail=result\n",
        "extra=0\n",
        "while l1 or l2 or extra!=0:\n",
        "  if l1 ==None:\n",
        "    valor1=0\n",
        "  else: \n",
        "    valor1=l1.val\n",
        "  if l2 ==None:\n",
        "    valor2=0\n",
        "  else: \n",
        "    valor2=l2.val\n",
        "  valor,residuo=divmod(valor1+valor2+extra,10)\n",
        "  result_tail.next=ListNode(residuo)\n",
        "  result_tail=result_tail.next\n",
        "  extra=valor\n",
        "  if l1 !=None:\n",
        "    l1=l1.next\n",
        "  if l2 !=None:\n",
        "    l2=l2.next\n",
        "result.next"
      ]
    },
    {
      "cell_type": "markdown",
      "source": [
        "#3) Longest Substring Without Repeating Characters\n",
        "Given a string s, find the length of the longest substring without repeating characters.\n",
        "\n",
        "https://leetcode.com/problems/longest-substring-without-repeating-characters/"
      ],
      "metadata": {
        "id": "HXRMbzirVndd"
      }
    },
    {
      "cell_type": "code",
      "source": [
        "def maxfunction(s): #primer codigo, pcoo efectivo se demora demasiado\n",
        "        L=0\n",
        "        ultimo=len(s)\n",
        "        for i in range(len(s)):\n",
        "            for j in range(i+1,len(s)):\n",
        "                a=s[i:j]\n",
        "                e=0\n",
        "                for k in a:\n",
        "                    if k==s[j]:\n",
        "                        L=max(len(a),L)\n",
        "                        i=i+e+1\n",
        "                        ultimo=len(s)-e-i\n",
        "                    e=e+1\n",
        "        L=max(ultimo,L)\n",
        "        return L\n",
        "#Solution2 \n",
        "def MaximaLista(s): #mas efectiva se demora menos\n",
        "        str_prueba=\"\"\n",
        "        lista_mas_larga=0\n",
        "        for i in s:\n",
        "            if i not in str_prueba:\n",
        "                str_prueba+=i\n",
        "            else:\n",
        "                a=len(str_prueba)\n",
        "                lista_mas_larga=max(lista_mas_larga,a)\n",
        "                elindex=str_prueba.index(i)\n",
        "                str_prueba=str_prueba[elindex+1:]\n",
        "                str_prueba+=i\n",
        "        a=len(str_prueba)\n",
        "        lista_mas_larga=max(lista_mas_larga,a)\n",
        "        return lista_mas_larga\n",
        "\n",
        "\n",
        "b=\"abcdefghijklmnopqrstuvwxyzABCDEFGHIJKLMNOPQRSTUVWXYZ0123456789!\\\"#$%&'()*+,-./:;<=>?@[\\\\]^_`{|}~ abcdefghijklmnopqrstuvwxyzABCDEFGHIJKLMNOPQRSTUVWXYZ0123456789!\\\"#$%&'()*+,-./:;<=>?@[\\\\]^_`{|}~ abcdefghijklmnopqrstuvwxyzABCDEFGHIJKLMNOPQRSTUVWXYZ0123456789!\\\"#$%&'()*+,-./:;<=>?@[\\\\]^_`{|}~ abcdefghijklmnopqrstuvwxyzABCDEFGHIJKLMNOPQRSTUVWXYZ0123456789!\\\"#$%&'()*+,-./:;<=>?@[\\\\]^_`{|}~ abcdefghijklmnopqrstuvwxyzABCDEFGHIJKLMNOPQRSTUVWXYZ0123456789!\\\"#$%&'()*+,-./:;abcdefghijklmnopqrstuvwxyzABCDEFGHIJKLMNOPQRSTUVWXYZ0123456789!\\\"#$%&'()*+,-./:;<=>?@[\\\\]^_`{|}~ abcdefghijklmnopqrstuvwxyzABCDEFGHIJKLMNOPQRSTUVWXYZ0123456789!\\\"#$%&'()*+,-./:;<=>?@[\\\\]^_`{|}~ abcdefghijklmnopqrstuvwxyzABCDEFGHIJKLMNOPQRSTUVWXYZ0123456789!\\\"#$%&'()*+,-./:;<=>?@[\\\\]^_`{|}~ abcdefghijklmnopqrstuvwxyzABCDEFGHIJKLMNOPQRSTUVWXYZ0123456789!\\\"#$%&'()*+,-./:;<=>?@[\\\\]^_`{|}~ abcdefghijklmnopqrstuvwxyzABCDEFGHIJKLMNOPQRSTUVWXYZ0123456789!\\\"#$%&'()*+,-./:;<=>?@[\\\\]^_`{|}~ abcdefghijklmnopqrstuvwxyzABCDEFGHIJKLMNOPQRSTUVWXYZ0123456789!\\\"#$%&'()*+,-./:;<=>?@[\\\\]^_`{|}~ abcdefghijklmnopqrstuvwxyzABCDEFGHIJKLMNOPQRSTUVWXYZ0123456789!\\\"#$%&'()*+,-./:;<=>?@[\\\\]^_`{|}~ abcdefghijklmnopqrstuvwxyzABCDEFGHIJKLMNOPQRSTUVWXYZ0123456789!\\\"#$%&'()*+,-./:;stuvwxyzABCDEFGHIJKLMNOPQRSTUVWXYZ0123456789!\\\"#$%&'()*+,-./:;\"\n",
        "Solution2P=MaximaLista(b)\n",
        "print(Solution2P)"
      ],
      "metadata": {
        "colab": {
          "base_uri": "https://localhost:8080/"
        },
        "id": "ZNprWBSeVnxf",
        "outputId": "7d8c45c6-a0b1-4b18-fc32-f5f6902be34d"
      },
      "execution_count": null,
      "outputs": [
        {
          "output_type": "stream",
          "name": "stdout",
          "text": [
            "95\n"
          ]
        }
      ]
    },
    {
      "cell_type": "markdown",
      "source": [
        "\n",
        "# 5) Longest Palindromic Substring\n",
        "Given a string s, return **the longest palindromic substring** in s.\n",
        "\n",
        "---\n",
        "\n",
        "\n",
        "https://leetcode.com/problems/longest-palindromic-substring/solution/"
      ],
      "metadata": {
        "id": "r57n61jWkUIb"
      }
    },
    {
      "cell_type": "code",
      "source": [
        "def polidromic(s):\n",
        "        final_str=\"\"\n",
        "        prueba_lista=\"\"\n",
        "        for k in range(len(s)):\n",
        "            r,l=0,0\n",
        "            while k-l>=0 and len(s)>k+r and s[k-l]==s[k+r]:\n",
        "                prueba_lista=s[k-l:k+r+1]\n",
        "                l,r=l+1,r+1\n",
        "                if len(prueba_lista)> len(final_str):\n",
        "                    final_str=prueba_lista\n",
        "            r,l=1,0\n",
        "            while k-l>=0 and len(s)>k+r and s[k-l]==s[k+r]:\n",
        "                prueba_lista=s[k-l:k+r+1]\n",
        "                l,r=l+1,r+1\n",
        "                if len(prueba_lista)> len(final_str):\n",
        "                    final_str=prueba_lista         \n",
        "        return final_str\n",
        "polidromic(\"babad\")"
      ],
      "metadata": {
        "colab": {
          "base_uri": "https://localhost:8080/",
          "height": 36
        },
        "id": "WAfgIrC0kTc8",
        "outputId": "efd3fd64-0f28-4beb-e1e5-7fe22c9fb8c9"
      },
      "execution_count": null,
      "outputs": [
        {
          "output_type": "execute_result",
          "data": {
            "text/plain": [
              "'bab'"
            ],
            "application/vnd.google.colaboratory.intrinsic+json": {
              "type": "string"
            }
          },
          "metadata": {},
          "execution_count": 2
        }
      ]
    },
    {
      "cell_type": "markdown",
      "source": [
        "# 6) Zigzag Conversion\n",
        "The string \"**PAYPALISHIRING**\" is written in a zigzag pattern on a given number of rows like this: (you may want to display this pattern in a fixed font for better legibility)\n",
        "\n",
        "**P   $\\hspace{2.5 mm}$ A $\\hspace{2.5 mm}$  H $\\hspace{2.5 mm}$  N**\n",
        "\n",
        "**A P L S $\\hspace{0.1 mm}$ I $\\hspace{0.2 mm}$  I  $\\hspace{0.1 mm}$  G**\n",
        "\n",
        "**Y  $\\hspace{3 mm}$ I  $\\hspace{3.2 mm}$ R**\n",
        "\n",
        "And then read line by line: \"**PAHNAPLSIIGYIR**\"\n",
        "\n",
        "Write the code that will take a string and make this conversion given a number of rows:\n",
        "\n",
        "string convert(string s, int numRows);\n",
        "\n",
        "https://leetcode.com/problems/zigzag-conversion/"
      ],
      "metadata": {
        "id": "K6DCtZwcGVto"
      }
    },
    {
      "cell_type": "code",
      "source": [
        "def convert(s, numRows):\n",
        "  resultado=\"\"\n",
        "  for j in range(numRows):\n",
        "    if j != numRows-1 and j !=0:\n",
        "      posicion=j\n",
        "      while posicion <len(s):\n",
        "        resultado+=s[posicion]\n",
        "        posicion+=2*(numRows-j-1)\n",
        "        if posicion <len(s):\n",
        "          resultado+=s[posicion]\n",
        "          posicion +=2*j\n",
        "    else:\n",
        "      if numRows>1:\n",
        "        posicion=j\n",
        "        while posicion <len(s):\n",
        "          resultado+=s[posicion]\n",
        "          posicion+=2*(numRows-1)\n",
        "      else:\n",
        "        return s\n",
        "  return resultado\n",
        "a=convert(\"PAYPALISHIRING\",3)\n",
        "print(a)"
      ],
      "metadata": {
        "id": "1p-xgMoggcKA",
        "colab": {
          "base_uri": "https://localhost:8080/"
        },
        "outputId": "29656654-f9c7-4884-c92b-6309dcaa0fb0"
      },
      "execution_count": null,
      "outputs": [
        {
          "output_type": "stream",
          "name": "stdout",
          "text": [
            "PAHNAPLSIIGYIR\n"
          ]
        }
      ]
    },
    {
      "cell_type": "markdown",
      "source": [
        "# 7) Reverse Integer\n",
        "\n",
        "Given a signed 32-bit integer x, return x with its digits reversed. If reversing x causes the value to go outside the signed 32-bit integer range $[-2^{31}, 2^{31} - 1]$, then return 0.\n",
        "\n",
        "https://leetcode.com/problems/reverse-integer/"
      ],
      "metadata": {
        "id": "D0p-RwvfNeUH"
      }
    },
    {
      "cell_type": "code",
      "source": [
        "\n",
        "class Solution:\n",
        "    def __init__(self, x):\n",
        "        self.x=x\n",
        "    def reverse(self):\n",
        "        string=str(self.x)\n",
        "        reverso=string[::-1]\n",
        "        if string[0]==\"-\":\n",
        "            a=reverso[:len(string)-1]\n",
        "            reverso=-1*int(a)\n",
        "        else:\n",
        "            reverso=int(reverso)\n",
        "        if reverso >-2**31 and reverso <2**31-1:\n",
        "            return reverso\n",
        "        else:\n",
        "            return 0\n",
        "sol=Solution(-123123)\n",
        "sol.reverse()"
      ],
      "metadata": {
        "colab": {
          "base_uri": "https://localhost:8080/"
        },
        "id": "XbXsvpofN13D",
        "outputId": "b5be7fdd-1762-4fbe-eb07-7c8e06a517fb"
      },
      "execution_count": null,
      "outputs": [
        {
          "output_type": "execute_result",
          "data": {
            "text/plain": [
              "-321321"
            ]
          },
          "metadata": {},
          "execution_count": 36
        }
      ]
    },
    {
      "cell_type": "markdown",
      "source": [
        "# 8) String to Integer (atoi)\n",
        "Implement the myAtoi(string s) function, which converts a string to a 32-bit signed integer (similar to C/C++'s atoi function).\n",
        "\n",
        "The algorithm for myAtoi(string s) is as follows:\n",
        "\n",
        "-  Read in and ignore any leading whitespace.\n",
        "\n",
        "-  Check if the next character (if not already at the end of the string) is '-' or '+'. Read this character in if it is either. This determines if the final result is negative or positive respectively. Assume the result is positive if neither is present.\n",
        "\n",
        "- Read in next the characters until the next non-digit character or the end of the input is reached. The rest of the string is ignored.\n",
        "- Convert these digits into an integer (i.e. \"123\" -> 123, \"0032\" -> 32). If no digits were read, then the integer is 0. Change the sign as necessary (from step 2).\n",
        "-  If the integer is out of the 32-bit signed integer range [-231, 231 - 1], then clamp the integer so that it remains in the range. Specifically, integers less than -231 should be clamped to -231, and integers greater than 231 - 1 should be clamped to 231 - 1.\n",
        "- Return the integer as the final result.\n",
        "\n",
        "https://leetcode.com/problems/string-to-integer-atoi/"
      ],
      "metadata": {
        "id": "S8llat6tFjeE"
      }
    },
    {
      "cell_type": "code",
      "source": [
        "#Code Andy\n",
        "class Solution:\n",
        "    def myAtoi(self, s: str) -> int:\n",
        "        #Generates all the digit numbers\n",
        "        digits=list(map(lambda x: str(x), range(10)))\n",
        "        s=s.strip()\n",
        "        new=''\n",
        "        #When the string is empty\n",
        "        if len(s)<=0:\n",
        "                return 0\n",
        "        if s[0] in ['+','-'] and len(s)==1:\n",
        "            return 0\n",
        "            \n",
        "        #Going through the index of the string\n",
        "        for i in range(len(s)):\n",
        "            if s[i] in ['+','-']:\n",
        "                if len(new)==0 and s[i+1] in digits:\n",
        "                    new=new+s[i]\n",
        "                elif len(new)>0:\n",
        "                    break\n",
        "                else:\n",
        "                    return 0\n",
        "            elif s[i] in digits:\n",
        "                new=new+s[i]\n",
        "            else:\n",
        "                if len(new)>0:\n",
        "                    break\n",
        "                else:\n",
        "                    return 0\n",
        "        new_int=int(new)\n",
        "        if new_int < -2**31:\n",
        "            new_int=-2**31\n",
        "        if new_int > 2**31-1:\n",
        "            new_int=2**31-1\n",
        "            \n",
        "        return new_int\n",
        "\n",
        "sol1=Solution()\n",
        "sol1.myAtoi('+44+')\n",
        "\n",
        "#Code 2\n",
        "class Solution2:\n",
        "    def myAtoi(self, s: str) -> int:\n",
        "        numeros =[\"1\",\"2\",\"3\",\"4\",\"5\",\"6\",\"7\",\"8\",\"9\",\"0\"]\n",
        "        nuevo=\"\"\n",
        "        for i in range(len(s)):\n",
        "            if s[i]==\" \":\n",
        "                if len(nuevo)>0:\n",
        "                    return int(nuevo)    \n",
        "            elif s[i]==\"+\" or s[i] ==\"-\":\n",
        "                if i==len(s)-1:\n",
        "                    break\n",
        "                if s[i+1] in numeros:\n",
        "                    nuevo+=s[i]\n",
        "                else:\n",
        "                    return 0\n",
        "            elif s[i] in numeros:\n",
        "                    nuevo+=s[i]\n",
        "                    if i==len(s)-1:\n",
        "                        break\n",
        "                    if s[i+1] not in numeros:\n",
        "                        break\n",
        "            else:\n",
        "                break\n",
        "        if len(nuevo)==0:\n",
        "            return 0\n",
        "        else:\n",
        "            entero=int(nuevo)\n",
        "            if entero>=2**31:\n",
        "                return 2**31-1\n",
        "            elif entero<-2**31:\n",
        "                return -2**31\n",
        "            else:\n",
        "                return entero\n",
        "sol2=Solution()\n",
        "sol2.myAtoi('+44+')        "
      ],
      "metadata": {
        "colab": {
          "base_uri": "https://localhost:8080/"
        },
        "id": "3a8bJoQGFno0",
        "outputId": "f6e63067-c98b-49ed-e3c5-fe73af42018a"
      },
      "execution_count": null,
      "outputs": [
        {
          "output_type": "execute_result",
          "data": {
            "text/plain": [
              "44"
            ]
          },
          "metadata": {},
          "execution_count": 3
        }
      ]
    },
    {
      "cell_type": "markdown",
      "source": [
        "# 9) Palindrome Number\n",
        "\n",
        "Given an integer x, return true if x is palindrome integer.\n",
        "\n",
        "An integer is a palindrome when it reads the same backward as forward.\n",
        "\n",
        "* For example, 121 is a palindrome while 123 is not.\n",
        "\n",
        "https://leetcode.com/problems/palindrome-number/"
      ],
      "metadata": {
        "id": "AyobcIwlpGdD"
      }
    },
    {
      "cell_type": "code",
      "source": [
        "class Solution:\n",
        "    def __init__(self,x):\n",
        "        self.x=x  \n",
        "    def isPalindrome(self):\n",
        "        string=str(self.x)\n",
        "        if string==string[::-1]:\n",
        "            return True\n",
        "        return False\n",
        "u=Solution(121)\n",
        "print(u.isPalindrome())\n"
      ],
      "metadata": {
        "colab": {
          "base_uri": "https://localhost:8080/"
        },
        "id": "6d9VQEPYpHGA",
        "outputId": "57361ba4-5bbc-4962-a95a-685e35a6abc7"
      },
      "execution_count": null,
      "outputs": [
        {
          "output_type": "stream",
          "name": "stdout",
          "text": [
            "True\n"
          ]
        }
      ]
    },
    {
      "cell_type": "markdown",
      "source": [
        "# 15) 3Sum\n",
        "Given an integer array nums, return all the triplets [nums[i], nums[j], nums[k]] such that i != j, i != k, and j != k, and nums[i] + nums[j] + nums[k] == 0.\n",
        "\n",
        "Notice that the solution set must not contain duplicate triplets.\n",
        "\n",
        "https://leetcode.com/problems/3sum/"
      ],
      "metadata": {
        "id": "Bv-TA43l0GRl"
      }
    },
    {
      "cell_type": "code",
      "source": [
        "class Solution:\n",
        "    def threeSum(self, nums) -> list():\n",
        "        nums.sort()\n",
        "        resultado=[]\n",
        "        for i,a in enumerate(nums):\n",
        "            if i>0 and a==nums[i-1]:\n",
        "                continue\n",
        "            r,l=0,1\n",
        "            while len(nums)-r-1>i+l:\n",
        "                if a+nums[i+l]+nums[len(nums)-r-1]==0:\n",
        "                    resultado.append([a,nums[i+l],nums[len(nums)-r-1]])\n",
        "                    l+=1\n",
        "                    while nums[i+l-1]==nums[i+l] and i+l<len(nums)-r-1:\n",
        "                        l+=1\n",
        "                        \n",
        "                elif nums[i]+nums[i+l]+nums[len(nums)-r-1]>0:\n",
        "                    r+=1\n",
        "                elif nums[i]+nums[i+l]+nums[len(nums)-r-1]<0:\n",
        "                    l+=1\n",
        "        return resultado\n",
        "sol=Solution()\n",
        "sol.threeSum([-1,0,1,2,-1,-4])"
      ],
      "metadata": {
        "colab": {
          "base_uri": "https://localhost:8080/"
        },
        "id": "PYU5defS0Gjw",
        "outputId": "8320a051-c160-4ec0-ca56-b3820306fe99"
      },
      "execution_count": 2,
      "outputs": [
        {
          "output_type": "execute_result",
          "data": {
            "text/plain": [
              "[[-1, -1, 2], [-1, 0, 1]]"
            ]
          },
          "metadata": {},
          "execution_count": 2
        }
      ]
    },
    {
      "cell_type": "markdown",
      "source": [
        "# HackerRank Exercises "
      ],
      "metadata": {
        "id": "PR_UVQlSOgO4"
      }
    },
    {
      "cell_type": "markdown",
      "source": [
        "10.  Two friends like to pool their money and go to the ice cream parlor. They always choose **two distinct flavors** and they **spend all of their money**.\n",
        "\n",
        "Given a list of prices for the flavors of ice cream, select the two that will cost all of the money they have."
      ],
      "metadata": {
        "id": "2Okwsb4u9rin"
      }
    },
    {
      "cell_type": "code",
      "source": [
        "#!/bin/python3\n",
        "\n",
        "import math\n",
        "import os\n",
        "import random\n",
        "import re\n",
        "import sys\n",
        "import timeit #To see the time of the process\n",
        "\n",
        "#\n",
        "# Complete the 'icecreamParlor' function below.\n",
        "#\n",
        "# The function is expected to return an INTEGER_ARRAY.\n",
        "# The function accepts following parameters:\n",
        "#  1. INTEGER m\n",
        "#  2. INTEGER_ARRAY arr\n",
        "#\n",
        "\n",
        "def icecreamParlor(m:int, arr:list):\n",
        "    dic={}\n",
        "    for i in range(0,len(arr)):\n",
        "        residue = m-arr[i]\n",
        "        if residue in dic:\n",
        "            #return dic[residue]+1, i+1 # index\n",
        "            return dic[residue], i # index\n",
        "        dic[arr[i]]=i\n",
        "        \n",
        "\n",
        "if __name__ == '__main__':\n",
        "\n",
        "    t = int(input('How many selection do you want?').strip())\n",
        "\n",
        "    for t_itr in range(t):\n",
        "        m = int(input('Amount of money: ').strip())\n",
        "\n",
        "        n = int(input('How many flavors do you have: ').strip())\n",
        "        print('Write the price of each flavor (only with spaces between them):')\n",
        "        arr = list(map(int, input().rstrip().split()))\n",
        "        start = timeit.default_timer()\n",
        "        result = icecreamParlor(m, arr)\n",
        "        stop = timeit.default_timer()\n",
        "\n",
        "    print(f'The index of the ice-cream that they could buy are: {result}')\n",
        "    print(f'The icecream are that they could buy are: {arr[result[0]]}, {arr[result[1]]}')\n",
        "    print(f'The process take the following time to work: {stop-start}')"
      ],
      "metadata": {
        "colab": {
          "base_uri": "https://localhost:8080/"
        },
        "id": "eE_cdmGX9uTj",
        "outputId": "5e8669c2-1272-451e-866d-8cb9533c3109"
      },
      "execution_count": null,
      "outputs": [
        {
          "output_type": "stream",
          "name": "stdout",
          "text": [
            "How many selection do you want?1\n",
            "Amount of money: 5\n",
            "How many flavors do you have: 7\n",
            "Write the price of each flavor (only with spaces between them):\n",
            "1 2 4 7 2 3 1\n",
            "The index of the ice-cream that they could buy are: (0, 2)\n",
            "The icecream are that they could buy are: 1, 4\n",
            "The process take the following time to work: 7.437999997250699e-06\n"
          ]
        }
      ]
    }
  ]
}